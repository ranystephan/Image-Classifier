{
 "cells": [
  {
   "attachments": {},
   "cell_type": "markdown",
   "metadata": {},
   "source": [
    "Importing MobileNetV2"
   ]
  },
  {
   "cell_type": "code",
   "execution_count": null,
   "metadata": {},
   "outputs": [],
   "source": [
    "from keras.applications.mobilenet_v2 import MobileNetV2"
   ]
  },
  {
   "cell_type": "code",
   "execution_count": null,
   "metadata": {},
   "outputs": [],
   "source": [
    "model = MobileNetV2(weights='imagenet')"
   ]
  },
  {
   "attachments": {},
   "cell_type": "markdown",
   "metadata": {},
   "source": [
    "### Data Preprocessing:"
   ]
  },
  {
   "attachments": {},
   "cell_type": "markdown",
   "metadata": {},
   "source": [
    "Loading the data and generating labels"
   ]
  },
  {
   "cell_type": "code",
   "execution_count": null,
   "metadata": {},
   "outputs": [],
   "source": [
    "import pandas as pd\n",
    "import numpy as np\n",
    "from imageio import imread\n",
    "from skimage.transform import resize\n",
    "from keras.applications.mobilenet_v2 import preprocess_input"
   ]
  },
  {
   "cell_type": "code",
   "execution_count": null,
   "metadata": {},
   "outputs": [],
   "source": [
    "# Read the csv file into the DataFrame\n",
    "df = pd.read_csv('Labelled_Data.csv')\n",
    "\n",
    "# Get the number of rows in the DataFrame\n",
    "num_of_images = len(df)\n",
    "\n",
    "# Print the number of images\n",
    "print(f\"Number of Labelled Images: {num_of_images}\")"
   ]
  },
  {
   "cell_type": "code",
   "execution_count": null,
   "metadata": {},
   "outputs": [],
   "source": [
    "data = np.empty((num_of_images, 224, 224, 3)) #num_of_images is the number of images that I want to train\n",
    "\n",
    "for i in range(num_of_images):\n",
    "  image_name = df.iloc[i, 1]\n",
    "  im = imread(f'Training-Images/{image_name}')\n",
    "  im = preprocess_input(im)\n",
    "  im = resize(im, output_shape=(224, 224))\n",
    "  data[i] = im\n",
    "\n"
   ]
  },
  {
   "cell_type": "markdown",
   "metadata": {},
   "source": [
    "Tidy up the data and create the matrix"
   ]
  },
  {
   "attachments": {},
   "cell_type": "markdown",
   "metadata": {},
   "source": [
    "|Categories | Number Representation |\n",
    "| --- | --- |\n",
    "| Cosmetics and Medicine | 0 |\n",
    "| Electronics | 1 |\n",
    "| Textile, Clothing & Shoes | 2 |\n",
    "| Furniture & Home appliances | 3 |\n",
    "| Toys  | 4 |\n",
    "| Books & Movies | 5 |\n"
   ]
  },
  {
   "cell_type": "code",
   "execution_count": null,
   "metadata": {},
   "outputs": [],
   "source": [
    "\"\"\"\n",
    "Generating Labels\n",
    "\"\"\"\n",
    "category_map = {\n",
    "    \"Cosmetics & Medicine\": 0,\n",
    "    \"Electronics\": 1,\n",
    "    \"Textile, Clothing & Shoes\": 2,\n",
    "    \"Furniture & Home appliances\": 3,\n",
    "    \"Toys \": 4,\n",
    "    \"Books & Movies\": 5\n",
    "}\n",
    "\n",
    "\n",
    "labels = np.empty(num_of_images, dtype=int)\n",
    "\n",
    "for index, row in df.iterrows():\n",
    "    category = row[2]\n",
    "    labels[index] = category_map[category]\n"
   ]
  },
  {
   "attachments": {},
   "cell_type": "markdown",
   "metadata": {},
   "source": [
    "Generating predictions for items, without transfer learning"
   ]
  },
  {
   "cell_type": "code",
   "execution_count": null,
   "metadata": {},
   "outputs": [],
   "source": [
    "from keras.applications.mobilenet_v2 import decode_predictions"
   ]
  },
  {
   "cell_type": "code",
   "execution_count": null,
   "metadata": {},
   "outputs": [],
   "source": [
    "predictions = model.predict(data) \n",
    "\n",
    "for decoded_prediction in decode_predictions(predictions, top=1):\n",
    "    for name, desc, score in decoded_prediction:\n",
    "        print('- {} ({:.2f}%)'.format(desc, 100*score))"
   ]
  },
  {
   "attachments": {},
   "cell_type": "markdown",
   "metadata": {},
   "source": [
    "Modifying the Model"
   ]
  },
  {
   "cell_type": "code",
   "execution_count": null,
   "metadata": {},
   "outputs": [],
   "source": [
    "from keras.layers import Dense\n",
    "from keras import Model"
   ]
  },
  {
   "cell_type": "code",
   "execution_count": null,
   "metadata": {},
   "outputs": [],
   "source": [
    "model.summary()"
   ]
  },
  {
   "cell_type": "code",
   "execution_count": null,
   "metadata": {},
   "outputs": [],
   "source": [
    "label_output = Dense(6, activation='softmax')\n",
    "label_output = label_output(model.layers[-2].output) #this is a keras tensor, to connect the nodes to our putput nodes\n",
    "label_input = model.input\n",
    "label_model = Model(inputs=label_input, outputs=label_output)\n",
    "\n",
    "for layer in label_model.layers[:-1]:\n",
    "    layer.trainable = False"
   ]
  },
  {
   "cell_type": "markdown",
   "metadata": {},
   "source": [
    "Compiling the Model"
   ]
  },
  {
   "cell_type": "code",
   "execution_count": null,
   "metadata": {},
   "outputs": [],
   "source": [
    "label_model.compile(\n",
    "    loss='sparse_categorical_crossentropy',\n",
    "    optimizer='adam',\n",
    "    metrics=['accuracy']\n",
    ")"
   ]
  },
  {
   "cell_type": "markdown",
   "metadata": {},
   "source": [
    "Training the Model"
   ]
  },
  {
   "cell_type": "code",
   "execution_count": null,
   "metadata": {},
   "outputs": [],
   "source": [
    "label_model.fit(\n",
    "    x=data,\n",
    "    y=labels,\n",
    "    epochs=20,\n",
    "    verbose=2\n",
    ")"
   ]
  },
  {
   "cell_type": "markdown",
   "metadata": {},
   "source": [
    "Generating predictions for training data"
   ]
  },
  {
   "cell_type": "code",
   "execution_count": null,
   "metadata": {},
   "outputs": [],
   "source": [
    "predictions = label_model.predict(data)"
   ]
  },
  {
   "cell_type": "code",
   "execution_count": null,
   "metadata": {},
   "outputs": [],
   "source": [
    "predictions.shape"
   ]
  },
  {
   "cell_type": "code",
   "execution_count": null,
   "metadata": {},
   "outputs": [],
   "source": [
    "np.argmax(predictions, axis=1)"
   ]
  },
  {
   "cell_type": "markdown",
   "metadata": {},
   "source": [
    "Generating separate training and validation sets"
   ]
  },
  {
   "cell_type": "code",
   "execution_count": null,
   "metadata": {},
   "outputs": [],
   "source": [
    "# separate training and validation sets randomly. 80% training, 20% validation\n",
    "from sklearn.model_selection import train_test_split\n",
    "\n",
    "X_train, X_val, y_train, y_val = train_test_split(\n",
    "    data, labels, test_size=0.2, random_state=42)\n",
    "\n",
    "X_train.shape, X_val.shape, y_train.shape, y_val.shape\n"
   ]
  },
  {
   "cell_type": "code",
   "execution_count": null,
   "metadata": {},
   "outputs": [],
   "source": [
    "label_model.fit(\n",
    "    x=X_train,\n",
    "    y=y_train,\n",
    "    epochs=20,\n",
    "    verbose=2,\n",
    "    validation_data=(X_val, y_val)\n",
    ")\n",
    "\n",
    "predictions = label_model.predict(X_val)\n",
    "\n",
    "predictions.shape\n",
    "\n",
    "\n"
   ]
  },
  {
   "cell_type": "code",
   "execution_count": null,
   "metadata": {},
   "outputs": [],
   "source": [
    "np.argmax(predictions, axis=1)\n"
   ]
  },
  {
   "cell_type": "code",
   "execution_count": null,
   "metadata": {},
   "outputs": [],
   "source": [
    "# now, check the percentage of accuracy of the model\n",
    "from sklearn.metrics import accuracy_score\n",
    "\n",
    "accuracy_score(y_val, np.argmax(predictions, axis=1))\n"
   ]
  },
  {
   "cell_type": "code",
   "execution_count": null,
   "metadata": {},
   "outputs": [],
   "source": []
  }
 ],
 "metadata": {
  "kernelspec": {
   "display_name": "venv",
   "language": "python",
   "name": "python3"
  },
  "language_info": {
   "codemirror_mode": {
    "name": "ipython",
    "version": 3
   },
   "file_extension": ".py",
   "mimetype": "text/x-python",
   "name": "python",
   "nbconvert_exporter": "python",
   "pygments_lexer": "ipython3",
   "version": "3.10.6"
  },
  "orig_nbformat": 4,
  "vscode": {
   "interpreter": {
    "hash": "ec7861f400ec440e627d1ece16e000dc24a43cc2061d08b5a7d9559422730751"
   }
  }
 },
 "nbformat": 4,
 "nbformat_minor": 2
}
