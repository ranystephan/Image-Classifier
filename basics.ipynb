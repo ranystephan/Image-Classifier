{
 "cells": [
  {
   "cell_type": "code",
   "execution_count": 25,
   "metadata": {},
   "outputs": [],
   "source": [
    "import numpy as np"
   ]
  },
  {
   "cell_type": "code",
   "execution_count": 26,
   "metadata": {},
   "outputs": [],
   "source": [
    "data = np.random.random(10000)"
   ]
  },
  {
   "cell_type": "code",
   "execution_count": 27,
   "metadata": {},
   "outputs": [],
   "source": [
    "data.shape = 10000, 1"
   ]
  },
  {
   "cell_type": "code",
   "execution_count": 28,
   "metadata": {},
   "outputs": [],
   "source": [
    "labels = np.array(data >= .5, dtype = int)"
   ]
  },
  {
   "cell_type": "code",
   "execution_count": 29,
   "metadata": {},
   "outputs": [
    {
     "data": {
      "text/plain": [
       "array([[0.73224421],\n",
       "       [0.38964888],\n",
       "       [0.96838599],\n",
       "       ...,\n",
       "       [0.65481208],\n",
       "       [0.36619629],\n",
       "       [0.10591216]])"
      ]
     },
     "execution_count": 29,
     "metadata": {},
     "output_type": "execute_result"
    }
   ],
   "source": [
    "data"
   ]
  },
  {
   "cell_type": "code",
   "execution_count": 30,
   "metadata": {},
   "outputs": [
    {
     "data": {
      "text/plain": [
       "array([[1],\n",
       "       [0],\n",
       "       [1],\n",
       "       ...,\n",
       "       [1],\n",
       "       [0],\n",
       "       [0]])"
      ]
     },
     "execution_count": 30,
     "metadata": {},
     "output_type": "execute_result"
    }
   ],
   "source": [
    "labels"
   ]
  },
  {
   "cell_type": "code",
   "execution_count": 31,
   "metadata": {},
   "outputs": [],
   "source": [
    "from keras import Sequential\n",
    "from keras.layers import Dense"
   ]
  },
  {
   "cell_type": "code",
   "execution_count": 32,
   "metadata": {},
   "outputs": [],
   "source": [
    "model = Sequential(\n",
    "  [\n",
    "    Dense(units=8, input_shape=(1,), activation = 'relu'),\n",
    "    Dense(units=2, activation='softmax')\n",
    "  ]\n",
    ")"
   ]
  },
  {
   "cell_type": "code",
   "execution_count": 33,
   "metadata": {},
   "outputs": [
    {
     "name": "stdout",
     "output_type": "stream",
     "text": [
      "Model: \"sequential_2\"\n",
      "_________________________________________________________________\n",
      " Layer (type)                Output Shape              Param #   \n",
      "=================================================================\n",
      " dense_4 (Dense)             (None, 8)                 16        \n",
      "                                                                 \n",
      " dense_5 (Dense)             (None, 2)                 18        \n",
      "                                                                 \n",
      "=================================================================\n",
      "Total params: 34\n",
      "Trainable params: 34\n",
      "Non-trainable params: 0\n",
      "_________________________________________________________________\n"
     ]
    }
   ],
   "source": [
    "model.summary()"
   ]
  },
  {
   "cell_type": "code",
   "execution_count": 34,
   "metadata": {},
   "outputs": [],
   "source": [
    "\"\"\"\n",
    "Compile the model\n",
    "\"\"\"\n",
    "model.compile(\n",
    "  loss='sparse_categorical_crossentropy',\n",
    "  optimizer='adam',\n",
    "  metrics=['accuracy']\n",
    ")\n"
   ]
  },
  {
   "cell_type": "code",
   "execution_count": 19,
   "metadata": {},
   "outputs": [
    {
     "name": "stdout",
     "output_type": "stream",
     "text": [
      "Epoch 1/10\n",
      "313/313 - 1s - loss: 0.5514 - accuracy: 0.7577 - 715ms/epoch - 2ms/step\n",
      "Epoch 2/10\n",
      "313/313 - 0s - loss: 0.3920 - accuracy: 0.9133 - 188ms/epoch - 601us/step\n",
      "Epoch 3/10\n",
      "313/313 - 0s - loss: 0.2817 - accuracy: 0.9591 - 188ms/epoch - 599us/step\n",
      "Epoch 4/10\n",
      "313/313 - 0s - loss: 0.2133 - accuracy: 0.9758 - 188ms/epoch - 599us/step\n",
      "Epoch 5/10\n",
      "313/313 - 0s - loss: 0.1698 - accuracy: 0.9844 - 192ms/epoch - 613us/step\n",
      "Epoch 6/10\n",
      "313/313 - 0s - loss: 0.1403 - accuracy: 0.9896 - 192ms/epoch - 612us/step\n",
      "Epoch 7/10\n",
      "313/313 - 0s - loss: 0.1194 - accuracy: 0.9928 - 188ms/epoch - 601us/step\n",
      "Epoch 8/10\n",
      "313/313 - 0s - loss: 0.1035 - accuracy: 0.9945 - 188ms/epoch - 599us/step\n",
      "Epoch 9/10\n",
      "313/313 - 0s - loss: 0.0915 - accuracy: 0.9949 - 189ms/epoch - 602us/step\n",
      "Epoch 10/10\n",
      "313/313 - 0s - loss: 0.0818 - accuracy: 0.9959 - 191ms/epoch - 609us/step\n"
     ]
    },
    {
     "data": {
      "text/plain": [
       "<keras.callbacks.History at 0x25bbf99f690>"
      ]
     },
     "execution_count": 19,
     "metadata": {},
     "output_type": "execute_result"
    }
   ],
   "source": [
    "# Train the model\n",
    "\n",
    "model.fit(\n",
    "  x=data,\n",
    "  y=labels,\n",
    "  epochs=10,\n",
    "  verbose=2\n",
    ")"
   ]
  },
  {
   "cell_type": "code",
   "execution_count": 20,
   "metadata": {},
   "outputs": [
    {
     "name": "stdout",
     "output_type": "stream",
     "text": [
      "1/1 [==============================] - 0s 55ms/step\n"
     ]
    }
   ],
   "source": [
    "# Testing the model\n",
    "\n",
    "test_data = np.array([0, 0.2, 0.4, 0.6, 0.8, 1])\n",
    "predictions = model.predict(test_data)"
   ]
  },
  {
   "cell_type": "code",
   "execution_count": 22,
   "metadata": {},
   "outputs": [
    {
     "name": "stdout",
     "output_type": "stream",
     "text": [
      "[0 0 0 1 1 1]\n"
     ]
    }
   ],
   "source": [
    "predictions\n",
    "print(np.argmax(predictions, axis=1))"
   ]
  },
  {
   "cell_type": "code",
   "execution_count": 35,
   "metadata": {},
   "outputs": [
    {
     "name": "stdout",
     "output_type": "stream",
     "text": [
      "Epoch 1/10\n",
      "282/282 - 1s - loss: 0.5344 - accuracy: 0.7731 - val_loss: 0.4412 - val_accuracy: 0.8990 - 636ms/epoch - 2ms/step\n",
      "Epoch 2/10\n",
      "282/282 - 0s - loss: 0.3626 - accuracy: 0.9318 - val_loss: 0.2905 - val_accuracy: 0.9590 - 214ms/epoch - 760us/step\n",
      "Epoch 3/10\n",
      "282/282 - 0s - loss: 0.2437 - accuracy: 0.9737 - val_loss: 0.2048 - val_accuracy: 0.9850 - 213ms/epoch - 757us/step\n",
      "Epoch 4/10\n",
      "282/282 - 0s - loss: 0.1794 - accuracy: 0.9870 - val_loss: 0.1584 - val_accuracy: 0.9910 - 213ms/epoch - 757us/step\n",
      "Epoch 5/10\n",
      "282/282 - 0s - loss: 0.1428 - accuracy: 0.9926 - val_loss: 0.1307 - val_accuracy: 0.9980 - 205ms/epoch - 729us/step\n",
      "Epoch 6/10\n",
      "282/282 - 0s - loss: 0.1200 - accuracy: 0.9952 - val_loss: 0.1124 - val_accuracy: 0.9990 - 209ms/epoch - 743us/step\n",
      "Epoch 7/10\n",
      "282/282 - 0s - loss: 0.1042 - accuracy: 0.9970 - val_loss: 0.0986 - val_accuracy: 0.9940 - 206ms/epoch - 732us/step\n",
      "Epoch 8/10\n",
      "282/282 - 0s - loss: 0.0927 - accuracy: 0.9963 - val_loss: 0.0888 - val_accuracy: 0.9990 - 211ms/epoch - 750us/step\n",
      "Epoch 9/10\n",
      "282/282 - 0s - loss: 0.0837 - accuracy: 0.9964 - val_loss: 0.0817 - val_accuracy: 0.9980 - 207ms/epoch - 736us/step\n",
      "Epoch 10/10\n",
      "282/282 - 0s - loss: 0.0767 - accuracy: 0.9974 - val_loss: 0.0747 - val_accuracy: 1.0000 - 205ms/epoch - 729us/step\n"
     ]
    },
    {
     "data": {
      "text/plain": [
       "<keras.callbacks.History at 0x25bc0eeb390>"
      ]
     },
     "execution_count": 35,
     "metadata": {},
     "output_type": "execute_result"
    }
   ],
   "source": [
    "\"\"\" \n",
    "Valudating the model during training\n",
    "\"\"\"\n",
    "model.fit(\n",
    "  x=data,\n",
    "  y=labels,\n",
    "  epochs=10,\n",
    "  verbose=2,\n",
    "  validation_split=.1\n",
    ")\n"
   ]
  },
  {
   "cell_type": "code",
   "execution_count": null,
   "metadata": {},
   "outputs": [],
   "source": []
  }
 ],
 "metadata": {
  "kernelspec": {
   "display_name": "Python 3",
   "language": "python",
   "name": "python3"
  },
  "language_info": {
   "codemirror_mode": {
    "name": "ipython",
    "version": 3
   },
   "file_extension": ".py",
   "mimetype": "text/x-python",
   "name": "python",
   "nbconvert_exporter": "python",
   "pygments_lexer": "ipython3",
   "version": "3.11.2"
  },
  "orig_nbformat": 4,
  "vscode": {
   "interpreter": {
    "hash": "de47f5c92c0ee6f12a59a5613ac5feff6aab19ddff207ba0b3964cced08c4ccc"
   }
  }
 },
 "nbformat": 4,
 "nbformat_minor": 2
}
